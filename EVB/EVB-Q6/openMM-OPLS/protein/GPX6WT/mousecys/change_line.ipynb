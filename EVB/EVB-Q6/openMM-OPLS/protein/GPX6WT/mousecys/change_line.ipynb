{
 "cells": [
  {
   "cell_type": "code",
   "execution_count": null,
   "metadata": {},
   "outputs": [],
   "source": [
    "import fileinput\n",
    "import os\n",
    "\n",
    "def replace_line(file_path, line_number, new_text):\n",
    "    with fileinput.FileInput(file_path, inplace=True) as file:\n",
    "        for i, line in enumerate(file, 1):\n",
    "            if i == line_number:\n",
    "                print(new_text)\n",
    "            else:\n",
    "                print(line, end='')\n",
    "\n",
    "def change_lines_in_files(directory, file_extension, line_number, new_text):\n",
    "    for root, dirs, files in os.walk(directory):\n",
    "        for file in files:\n",
    "            if file.endswith(file_extension):\n",
    "                file_path = os.path.join(root, file)\n",
    "                replace_line(file_path, line_number, new_text)\n",
    "\n",
    "# Example usage:\n",
    "directory_path = \"/path/to/your/files\"\n",
    "file_extension = \".txt\"\n",
    "line_number_to_change = 3\n",
    "new_text_content = \"This is the new content for line 3.\"\n",
    "\n",
    "change_lines_in_files(directory_path, file_extension, line_number_to_change, new_text_content)"
   ]
  }
 ],
 "metadata": {
  "language_info": {
   "name": "python"
  }
 },
 "nbformat": 4,
 "nbformat_minor": 2
}
