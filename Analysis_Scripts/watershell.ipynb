{
 "cells": [
  {
   "cell_type": "code",
   "execution_count": null,
   "metadata": {},
   "outputs": [],
   "source": [
    "import matplotlib.pyplot as plt\n",
    "import pandas as pd\n",
    "\n",
    "# Step 1: Read the data from the .dat file\n",
    "file_path = '/home/nayanika/Work/Thesis/Analysis_Scripts/Files/watershellhumansec.dat'\n",
    "\n",
    "# Initialize empty lists to store x and y data\n",
    "x_data = []\n",
    "y_data = []\n",
    "\n",
    "data = pd.read_csv(file_path, delim_whitespace=True)\n",
    "x_data = data.iloc[:, 0]\n",
    "y_data = data.iloc[:, 1]\n",
    "\n",
    "# Step 2: Create a subplot with 1 row and 2 columns\n",
    "fig = plt.figure(figsize=(12, 5))\n",
    "plt.subplot(1, 2, 1)\n",
    "plt.plot(x_data, y_data, label='Data')\n",
    "plt.xlabel(r'Frame')\n",
    "plt.ylabel(r'')\n",
    "plt.title(r'Lower Cut')\n",
    "plt.legend()\n",
    "plt.grid(True)\n",
    "\n",
    "x_data = []\n",
    "y_data = []\n",
    "\n",
    "data = pd.read_csv(file_path, delim_whitespace=True)\n",
    "x_data = data.iloc[:, 0]\n",
    "y_data = data.iloc[:, 2]\n",
    "\n",
    "# Step 3: Create another subplot for the second plot\n",
    "plt.subplot(1, 2, 2)\n",
    "# Assuming you have another set of data for the second plot, replace the following line with your actual data\n",
    "plt.plot(x_data, y_data, label='Data')\n",
    "plt.xlabel(r'Frame')\n",
    "plt.ylabel(r'Count the number of waters')\n",
    "plt.title(r'Upper Cut')\n",
    "plt.legend()\n",
    "plt.grid(True)\n",
    "\n",
    "# Step 4: Adjust layout to prevent overlapping titles\n",
    "plt.tight_layout()\n",
    "plt.show()\n"
   ]
  }
 ],
 "metadata": {
  "kernelspec": {
   "display_name": "AmberTools22",
   "language": "python",
   "name": "python3"
  },
  "language_info": {
   "codemirror_mode": {
    "name": "ipython",
    "version": 3
   },
   "file_extension": ".py",
   "mimetype": "text/x-python",
   "name": "python",
   "nbconvert_exporter": "python",
   "pygments_lexer": "ipython3",
   "version": "3.10.5"
  }
 },
 "nbformat": 4,
 "nbformat_minor": 2
}
